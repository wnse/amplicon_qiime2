{
 "cells": [
  {
   "cell_type": "code",
   "execution_count": null,
   "id": "fe387abf",
   "metadata": {},
   "outputs": [],
   "source": [
    "import pandas as pd\n",
    "import json\n",
    "import os\n",
    "import logging\n",
    "import json\n",
    "import re"
   ]
  },
  {
   "cell_type": "code",
   "execution_count": 2,
   "id": "6bca9945-3853-4d51-9a07-0fbe1e7af450",
   "metadata": {},
   "outputs": [],
   "source": [
    "logging.basicConfig(level=logging.INFO, \n",
    "                    # filename=logfile, \n",
    "                    format='%(asctime)s %(levelname)s %(message)s',datefmt='%Y-%m-%d %H:%M:%S')\n",
    "\n",
    "def export_alpha_sig(vector_artifact, metadata_md):\n",
    "    import qiime2.plugins.diversity.actions as diversity_actions\n",
    "    viz, = diversity_actions.alpha_group_significance(\n",
    "        alpha_diversity=vector_artifact,\n",
    "        metadata=metadata_md,\n",
    "    )\n",
    "    return viz\n",
    "    \n",
    "\n",
    "def get_alpha_vectors_sig(alpha_index_csv, metadata_csv, outdir):\n",
    "    from qiime2 import Artifact\n",
    "    from qiime2 import Metadata\n",
    "    metadata_md = Metadata.load(metadata_csv)\n",
    "    df_vectors = pd.read_csv(alpha_index_csv, index_col=0)\n",
    "    metrics = ['faith_pd', 'observed_features', 'shannon_entropy' ,'pielou_evenness']\n",
    "    for m in metrics:\n",
    "        if m in df_vectors.columns:\n",
    "            tmp_vector = Artifact.import_data('SampleData[AlphaDiversity]', df_vectors[m])\n",
    "            tmp_viz = export_alpha_sig(tmp_vector, metadata_md)\n",
    "            tmp_viz.export_data(os.path.join(outdir, m))\n",
    "        else:\n",
    "            logging.info(f'{m} not in {alpha_index_csv} columns')\n",
    "        \n",
    "\n",
    "def export_ancom_sig(table_artifact, metadata_categroy):\n",
    "    import qiime2.plugins.composition.actions as composition_actions\n",
    "    comp_table, = composition_actions.add_pseudocount(\n",
    "        table=table_artifact,\n",
    "    )\n",
    "    ancom_viz, = composition_actions.ancom(\n",
    "        table=comp_table,\n",
    "        metadata=metadata_categroy,\n",
    "    )\n",
    "    return ancom_viz\n",
    "\n",
    "def get_ancom_sig(table, metadata, outdir):\n",
    "    # from qiime2 import Artifact\n",
    "    # from qiime2 import Metadata\n",
    "    # metadata_md = Metadata.load(metadata_csv)\n",
    "    # table = Artifact.load(table_qza)\n",
    "    \n",
    "    for group in metadata.columns:\n",
    "        logging.info(f'get_ancom_sig: {group}')\n",
    "        try:\n",
    "            ancom_viz = export_ancom_sig(table, metadata.get_column(group))\n",
    "            ancom_viz.export_data(os.path.join(outdir, f'ancom_{group}'))\n",
    "        except Exception as e:\n",
    "            logging.error(e)\n",
    "            \n",
    "def get_ancom_sig_taxa(table_qza, metadata_csv, tax_qza, outdir):\n",
    "    from qiime2 import Artifact\n",
    "    from qiime2 import Metadata\n",
    "    import qiime2.plugins.taxa.actions as taxa_actions\n",
    "    metadata_md = Metadata.load(metadata_csv)\n",
    "    table = Artifact.load(table_qza)\n",
    "    taxonomy = Artifact.load(tax_qza)\n",
    "    # for i in range(7):\n",
    "    tax_table, = taxa_actions.collapse(\n",
    "        table=table,\n",
    "        taxonomy=taxonomy,\n",
    "        level=6,\n",
    "    )\n",
    "    get_ancom_sig(tax_table, metadata_md, outdir)\n",
    "    \n"
   ]
  },
  {
   "cell_type": "code",
   "execution_count": 7,
   "id": "30c3b79b-4873-46ac-9413-311f5246e6ac",
   "metadata": {
    "scrolled": true
   },
   "outputs": [
    {
     "name": "stderr",
     "output_type": "stream",
     "text": [
      "2022-06-16 13:24:19 INFO get_ancom_sig: sample\n",
      "2022-06-16 13:24:19 ERROR All values in `grouping` are unique. This method cannot operate on a grouping vector with only unique values (e.g., there are no 'within' variance because each group of samples contains only a single sample).\n",
      "2022-06-16 13:24:19 INFO get_ancom_sig: group\n",
      "/home/yangk/anaconda3/envs/qiime2-2022.2/lib/python3.8/site-packages/scipy/stats/_stats_py.py:3659: F_onewayConstantInputWarning: Each of the input arrays is constant;the F statistic is not defined or infinite\n",
      "  warnings.warn(F_onewayConstantInputWarning())\n",
      "2022-06-16 13:24:30 INFO get_ancom_sig: 11\n",
      "2022-06-16 13:24:30 ERROR Metadata column is missing values for the following samples. Values need to be added for these samples, or the samples need to be removed from the table: SRR18505770\n"
     ]
    }
   ],
   "source": [
    "json_file = 'test_out/merge_out/Amplicon_merge_with_diversity.json'\n",
    "\n",
    "with open(json_file, 'rt') as H:\n",
    "    merge_info = json.load(H)\n",
    "table_qza = merge_info['merged_tab_qza']\n",
    "tax_qza = merge_info['merged_tax_qza']\n",
    "outdir = 'test_out/div_sig_0616/'\n",
    "metadata_csv = 'test_out/div_sig_0616/metadata.csv'\n",
    "get_ancom_sig_taxa(table_qza, metadata_csv, tax_qza, outdir)\n",
    "\n",
    "json_file = 'test_out/merge_out/Amplicon_merge_with_diversity.json'\n",
    "\n",
    "with open(json_file, 'rt') as H:\n",
    "    merge_info = json.load(H)\n",
    "alpha_index_csv = merge_info['alpha_index_csv']\n",
    "outdir = 'test_out/div_sig_0616/'\n",
    "metadata_csv = 'test_out/div_sig_0616/metadata.csv'\n",
    "get_alpha_vectors_sig(alpha_index_csv, metadata_csv, outdir)\n",
    "\n",
    "jsonp = os.path.join(outdir, 'faith_pd/column-11.jsonp')\n",
    "with open(jsonp, 'rt') as h:\n",
    "    jsonp_content = h.readline()\n",
    "json.loads('['+re.match(r'.*?({.*})',jsonp_content).group(1)+']')"
   ]
  },
  {
   "cell_type": "code",
   "execution_count": null,
   "id": "984b1bb9-bc3f-4b11-b2dd-a3af4981b6ac",
   "metadata": {},
   "outputs": [],
   "source": []
  }
 ],
 "metadata": {
  "jupytext": {
   "formats": "ipynb,py:percent"
  },
  "kernelspec": {
   "display_name": "Python 3 (ipykernel)",
   "language": "python",
   "name": "python3"
  },
  "language_info": {
   "codemirror_mode": {
    "name": "ipython",
    "version": 3
   },
   "file_extension": ".py",
   "mimetype": "text/x-python",
   "name": "python",
   "nbconvert_exporter": "python",
   "pygments_lexer": "ipython3",
   "version": "3.8.12"
  }
 },
 "nbformat": 4,
 "nbformat_minor": 5
}
