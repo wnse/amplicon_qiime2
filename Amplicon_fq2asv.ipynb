{
 "cells": [
  {
   "cell_type": "code",
   "execution_count": 127,
   "id": "28ea9d08-1482-404b-873b-9b8124920351",
   "metadata": {},
   "outputs": [],
   "source": [
    "import os\n",
    "# import qiime2\n",
    "import pandas as pd\n",
    "import logging\n",
    "import argparse"
   ]
  },
  {
   "cell_type": "code",
   "execution_count": 119,
   "id": "4af76866-e2ee-43f7-b73b-aca921f8d667",
   "metadata": {},
   "outputs": [],
   "source": [
    "\n",
    "def import_fq(fq_list, sample_name, tmpdir='./'):\n",
    "    raw_seqs = None\n",
    "    try:\n",
    "        from qiime2 import Artifact\n",
    "        tmpmanifest = os.path.join(tmpdir, 'tmpmanifest')\n",
    "        # with open(tmpmanifest, 'w') as h:\n",
    "        if len(fq_list) == 2:\n",
    "            df = pd.DataFrame([sample_name] + fq_list).T\n",
    "            df.columns=['sample-id','forward-absolute-filepath','reverse-absolute-filepath']\n",
    "            df.to_csv(tmpmanifest, index=False, sep='\\t')\n",
    "            raw_seqs = Artifact.import_data('SampleData[PairedEndSequencesWithQuality]', tmpmanifest, 'PairedEndFastqManifestPhred33V2')\n",
    "        if len(fq_list) == 1:\n",
    "            df = pd.DataFrame([sample_name]  + fq_list).T\n",
    "            df.columns=['sample-id','absolute-filepath']\n",
    "            df.to_csv(tmpmanifest, index=False, sep='\\t')\n",
    "            raw_seqs = Artifact.import_data('SampleData[SequencesWithQuality]', tmpmanifest, 'SingleEndFastqManifestPhred33V2')\n",
    "    except Exception as e:\n",
    "        logging.error(e)\n",
    "    return raw_seqs\n",
    "\n",
    "def get_rep_seq(raw_seqs):\n",
    "    table, rep_seqs, stats = None, None, None\n",
    "    try:\n",
    "        import qiime2.plugins.dada2.actions as dada2_actions\n",
    "        table, rep_seqs, stats = dada2_actions.denoise_single(\n",
    "            demultiplexed_seqs=raw_seqs, \n",
    "            trunc_len=0\n",
    "        )\n",
    "    except Exception as e:\n",
    "        logging.error(e)\n",
    "    return table, rep_seqs, stats\n",
    "\n",
    "def get_tax(rep_seq, ref):\n",
    "    taxonomy = None\n",
    "    try:\n",
    "        from qiime2 import Artifact\n",
    "        import qiime2.plugins.feature_classifier.actions as feature_classifier_actions\n",
    "        arti_ref = Artifact.load(ref)\n",
    "        taxonomy, = feature_classifier_actions.classify_sklearn(\n",
    "            classifier=arti_ref,\n",
    "            reads=rep_seq,\n",
    "        )\n",
    "    except Exception as e:\n",
    "        logging.error(e)\n",
    "    return taxonomy\n",
    "\n",
    "def data2df(data):\n",
    "    from qiime2 import Metadata\n",
    "    return data.view(Metadata).to_dataframe()"
   ]
  },
  {
   "cell_type": "code",
   "execution_count": 121,
   "id": "2c14f07f-89c1-4741-9a8f-7630e59653a8",
   "metadata": {
    "tags": []
   },
   "outputs": [],
   "source": [
    "def fq2asv(fq_list):\n",
    "    raw_seqs = import_fq(fq, sn)\n",
    "    table, rep_seqs, stats = get_rep_seq(raw_seqs)\n",
    "    tax = get_tax(rep_seqs, ref)\n",
    "    return data2df(stats), pd.concat([data2df(table).T, data2df(rep_seqs), data2df(tax)], axis=1)"
   ]
  },
  {
   "cell_type": "code",
   "execution_count": null,
   "id": "8f0ba4c8-5aa3-411f-9af7-db30a6978e63",
   "metadata": {},
   "outputs": [],
   "source": [
    "if __name__ == '__main__':\n",
    "    parse = argparse.ArgumentParser(formatter_class=argparse.ArgumentDefaultsHelpFormatter)\n",
    "    \n",
    "    \n",
    "    args = parse.parse_args()\n",
    "    \n",
    "    logging.basicConfig()\n",
    "    \n",
    "    stats, tax = fq2asv(fq)\n",
    "    "
   ]
  },
  {
   "cell_type": "code",
   "execution_count": 122,
   "id": "ef2f6b0c-6a9c-4484-9e49-a0002297401f",
   "metadata": {},
   "outputs": [
    {
     "name": "stdout",
     "output_type": "stream",
     "text": [
      "Running external command line application(s). This may print messages to stdout and/or stderr.\n",
      "The command(s) being run are below. These commands cannot be manually re-run as they will depend on temporary files that no longer exist.\n",
      "\n",
      "Command: run_dada_single.R /tmp/q2-SingleLanePerSampleSingleEndFastqDirFmt-gvua1bi4 /tmp/tmpsgww050b/output.tsv.biom /tmp/tmpsgww050b/track.tsv /tmp/tmpsgww050b 0 0 2.0 2 Inf independent consensus 1.0 1 1000000 NULL 16\n",
      "\n",
      "R version 4.1.2 (2021-11-01) \n"
     ]
    },
    {
     "name": "stderr",
     "output_type": "stream",
     "text": [
      "载入需要的程辑包：Rcpp\n"
     ]
    },
    {
     "name": "stdout",
     "output_type": "stream",
     "text": [
      "DADA2: 1.22.0 / Rcpp: 1.0.8.3 / RcppParallel: 5.1.5 \n",
      "1) Filtering .\n",
      "2) Learning Error Rates\n",
      "3218919 total bases in 16699 reads from 1 samples will be used for learning the error rates.\n",
      "3) Denoise samples .\n",
      "4) Remove chimeras (method = consensus)\n",
      "5) Report read numbers through the pipeline\n",
      "6) Write output\n"
     ]
    }
   ],
   "source": [
    "\n",
    "# fq = ['/mnt/d/Yangk/work/qiime/test_data/SRR18505770_1.fastq', '/mnt/d/Yangk/work/qiime/test_data/SRR18505770_2.fastq']\n",
    "# fq1 = ['/mnt/d/Yangk/work/qiime/test_data/SRR18505775_1.fastq', '/mnt/d/Yangk/work/qiime/test_data/SRR18505775_2.fastq']\n",
    "\n",
    "# sn = 'testName'\n",
    "# ref = '/mnt/d/Yangk/work/qiime/gg-13-8-99-515-806-nb-classifier.qza'\n",
    "# stats, tax = fq2asv(fq)"
   ]
  }
 ],
 "metadata": {
  "jupytext": {
   "formats": "ipynb,auto:percent"
  },
  "kernelspec": {
   "display_name": "Python 3 (ipykernel)",
   "language": "python",
   "name": "python3"
  },
  "language_info": {
   "codemirror_mode": {
    "name": "ipython",
    "version": 3
   },
   "file_extension": ".py",
   "mimetype": "text/x-python",
   "name": "python",
   "nbconvert_exporter": "python",
   "pygments_lexer": "ipython3",
   "version": "3.8.12"
  }
 },
 "nbformat": 4,
 "nbformat_minor": 5
}
