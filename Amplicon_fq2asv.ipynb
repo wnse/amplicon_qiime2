{
 "cells": [
  {
   "cell_type": "code",
   "execution_count": 94,
   "id": "9f8bb542",
   "metadata": {
    "scrolled": true
   },
   "outputs": [],
   "source": [
    "import sys\n",
    "import os\n",
    "import shutil"
   ]
  },
  {
   "cell_type": "code",
   "execution_count": 88,
   "id": "c2286f66",
   "metadata": {},
   "outputs": [],
   "source": [
    "# sys.path.append('../pub/')"
   ]
  },
  {
   "cell_type": "code",
   "execution_count": 44,
   "id": "28ea9d08-1482-404b-873b-9b8124920351",
   "metadata": {},
   "outputs": [],
   "source": [
    "import json\n",
    "# import qiime2\n",
    "import pandas as pd\n",
    "import logging\n",
    "import argparse"
   ]
  },
  {
   "cell_type": "code",
   "execution_count": 2,
   "id": "4af76866-e2ee-43f7-b73b-aca921f8d667",
   "metadata": {},
   "outputs": [],
   "source": [
    "\n",
    "def import_fq(fq_list, sample_name, tmpdir='./'):\n",
    "    raw_seqs = None\n",
    "    try:\n",
    "        from qiime2 import Artifact\n",
    "        tmpmanifest = os.path.join(tmpdir, 'tmpmanifest')\n",
    "        # with open(tmpmanifest, 'w') as h:\n",
    "        if len(fq_list) == 2:\n",
    "            df = pd.DataFrame([sample_name] + fq_list).T\n",
    "            df.columns=['sample-id','forward-absolute-filepath','reverse-absolute-filepath']\n",
    "            df.to_csv(tmpmanifest, index=False, sep='\\t')\n",
    "            raw_seqs = Artifact.import_data('SampleData[PairedEndSequencesWithQuality]', tmpmanifest, 'PairedEndFastqManifestPhred33V2')\n",
    "        if len(fq_list) == 1:\n",
    "            df = pd.DataFrame([sample_name]  + fq_list).T\n",
    "            df.columns=['sample-id','absolute-filepath']\n",
    "            df.to_csv(tmpmanifest, index=False, sep='\\t')\n",
    "            raw_seqs = Artifact.import_data('SampleData[SequencesWithQuality]', tmpmanifest, 'SingleEndFastqManifestPhred33V2')\n",
    "    except Exception as e:\n",
    "        logging.error(e)\n",
    "    return raw_seqs\n",
    "\n",
    "def get_rep_seq(raw_seqs):\n",
    "    table, rep_seqs, stats = None, None, None\n",
    "    try:\n",
    "        import qiime2.plugins.dada2.actions as dada2_actions\n",
    "        table, rep_seqs, stats = dada2_actions.denoise_single(\n",
    "            demultiplexed_seqs=raw_seqs, \n",
    "            trunc_len=0\n",
    "        )\n",
    "    except Exception as e:\n",
    "        logging.error(e)\n",
    "    return table, rep_seqs, stats\n",
    "\n",
    "def get_tax(rep_seq, ref):\n",
    "    taxonomy = None\n",
    "    try:\n",
    "        from qiime2 import Artifact\n",
    "        import qiime2.plugins.feature_classifier.actions as feature_classifier_actions\n",
    "        arti_ref = Artifact.load(ref)\n",
    "        taxonomy, = feature_classifier_actions.classify_sklearn(\n",
    "            classifier=arti_ref,\n",
    "            reads=rep_seq,\n",
    "        )\n",
    "    except Exception as e:\n",
    "        logging.error(e)\n",
    "    return taxonomy\n",
    "\n",
    "def data2df(data):\n",
    "    from qiime2 import Metadata\n",
    "    return data.view(Metadata).to_dataframe()"
   ]
  },
  {
   "cell_type": "code",
   "execution_count": 96,
   "id": "2c14f07f-89c1-4741-9a8f-7630e59653a8",
   "metadata": {
    "tags": []
   },
   "outputs": [],
   "source": [
    "def stat2df(stat):\n",
    "    from qiime2 import Metadata\n",
    "    df_tmp = stat.view(Metadata).to_dataframe().reset_index()\n",
    "    df_tmp.columns = df_tmp.columns.astype(str).str.lower().str.replace(' ','_').str.replace('-','_', regex=False).str.replace('.','_', regex=False)\n",
    "    df_tmp = df_tmp.astype(str).loc[0].to_dict()\n",
    "    return df_tmp\n",
    "\n",
    "def number_describe(df_S, name=None):\n",
    "    df_sta = df_S.describe()\n",
    "    if name:\n",
    "        df_sta.index = str(name) + df_sta.index\n",
    "    return df_sta.astype(str).to_dict()\n",
    "\n",
    "def fq2asv(fq_list, sample_name, ref, outdir):\n",
    "    out_dict = {}\n",
    "    try:\n",
    "        raw_seqs = import_fq(fq_list, sample_name, tmpdir=outdir)\n",
    "        table, rep_seqs, stats = get_rep_seq(raw_seqs)\n",
    "        tax = get_tax(rep_seqs, ref)\n",
    "\n",
    "        df_stat = stat2df(stats)\n",
    "        out_dict.update({'seq_stats':df_stat})\n",
    "\n",
    "        df_table = pd.concat([data2df(table).T.rename(columns={sample_name:'frequency'}), \n",
    "                              data2df(rep_seqs),\n",
    "                              data2df(tax)],\n",
    "                             axis=1)\n",
    "        out_csv = os.path.join(outdir, 'asv_tax.csv')\n",
    "        df_table.to_csv(out_csv)\n",
    "        out_dict.update({'asv_fre_sta':number_describe(df_table['frequency'],'asv_frequency_')})\n",
    "        out_dict.update({'asv_len_sta':number_describe(df_table['Sequence'].apply(len),'asv_seq_len_')})\n",
    "        out_dict.update({'asv_tax_tab':out_csv})\n",
    "\n",
    "        table_qza = os.path.join(outdir, 'asv_table.qza')\n",
    "        table.save(table_qza)\n",
    "        out_dict.update({'asv_tab_qza':table_qza})\n",
    "\n",
    "        rep_seqs_qza = os.path.join(outdir, 'asv_rep_seqs.qza')\n",
    "        rep_seqs.save(rep_seqs_qza)\n",
    "        out_dict.update({'asv_seq_qza':rep_seqs_qza})\n",
    "        \n",
    "        tax_qza = os.path.join(outdir, 'asv_tax.qza')\n",
    "        tax.save(tax_qza)\n",
    "        out_dict.update({'asv_tax_qza':tax_qza})\n",
    "    except Exception as e:\n",
    "        logging.error(e)\n",
    "    return out_dict\n",
    "#     return data2df(stats), pd.concat([data2df(table).T, data2df(rep_seqs), data2df(tax)], axis=1)"
   ]
  },
  {
   "cell_type": "code",
   "execution_count": 93,
   "id": "a6e19d34",
   "metadata": {},
   "outputs": [
    {
     "ename": "NameError",
     "evalue": "name '__file__' is not defined",
     "output_type": "error",
     "traceback": [
      "\u001b[0;31m---------------------------------------------------------------------------\u001b[0m",
      "\u001b[0;31mNameError\u001b[0m                                 Traceback (most recent call last)",
      "Input \u001b[0;32mIn [93]\u001b[0m, in \u001b[0;36m<module>\u001b[0;34m\u001b[0m\n\u001b[1;32m      1\u001b[0m \u001b[38;5;28;01mif\u001b[39;00m \u001b[38;5;18m__name__\u001b[39m \u001b[38;5;241m==\u001b[39m \u001b[38;5;124m'\u001b[39m\u001b[38;5;124m__main__\u001b[39m\u001b[38;5;124m'\u001b[39m:\n\u001b[0;32m----> 2\u001b[0m     bin_dir \u001b[38;5;241m=\u001b[39m os\u001b[38;5;241m.\u001b[39mpath\u001b[38;5;241m.\u001b[39msplit(os\u001b[38;5;241m.\u001b[39mpath\u001b[38;5;241m.\u001b[39mrealpath(\u001b[38;5;18;43m__file__\u001b[39;49m))[\u001b[38;5;241m0\u001b[39m]\n\u001b[1;32m      3\u001b[0m     pub_path \u001b[38;5;241m=\u001b[39m os\u001b[38;5;241m.\u001b[39mpath\u001b[38;5;241m.\u001b[39mjoin(bin_dir, \u001b[38;5;124m'\u001b[39m\u001b[38;5;124m../pub/\u001b[39m\u001b[38;5;124m'\u001b[39m)\n\u001b[1;32m      4\u001b[0m     \u001b[38;5;28;01mif\u001b[39;00m os\u001b[38;5;241m.\u001b[39mpath\u001b[38;5;241m.\u001b[39misdir(pub_path):\n",
      "\u001b[0;31mNameError\u001b[0m: name '__file__' is not defined"
     ]
    }
   ],
   "source": [
    "if __name__ == '__main__':\n",
    "    bin_dir = os.path.split(os.path.realpath(__file__))[0]\n",
    "    pub_path = os.path.join(bin_dir, '../pub/')\n",
    "    if os.path.isdir(pub_path):\n",
    "        sys.path.append(pub_path)\n",
    "    else:\n",
    "        raise(f'{pub_path} not exists')\n",
    "    \n",
    "    from write_json import write_json\n",
    "    from mkdir import mkdir\n",
    "    \n",
    "    parse = argparse.ArgumentParser(formatter_class=argparse.ArgumentDefaultsHelpFormatter)\n",
    "    parse.add_argument('-i', '--input', required=True, nargs='+', help='fastq file for analysis (absolute path)')\n",
    "    parse.add_argument('-o', '--outdir', required=True, help='out dir for output files')\n",
    "    parse.add_argument('-n', '--name', default='test', help='sample name')\n",
    "    parse.add_argument('-r', '--ref', default=os.path.join(bin_dir, 'database/gg-13-8-99-515-806-nb-classifier.qza'))\n",
    "    args = parse.parse_args()\n",
    "    \n",
    "    outdir = args.outdir\n",
    "    mkdir(outdir)\n",
    "    logfile = os.path.join(outdir, 'log')\n",
    "    logging.basicConfig(level=logging.INFO, filename=logfile, format='%(asctime)s %(levelname)s %(message)s',datefmt='%Y-%m-%d %H:%M:%S')\n",
    "    \n",
    "    fq_list = args.input\n",
    "    sample_name = args.name\n",
    "    ref = args.ref\n",
    "    \n",
    "    info_dict = fq2asv(fq_list, sample_name, ref, outdir)\n",
    "    json_out = write_json(info_dict, outdir=outdir)\n",
    "    if not json_out:\n",
    "        logging.info(f'write json failed')\n",
    "        logging.info(f'{info_dict}')"
   ]
  }
 ],
 "metadata": {
  "jupytext": {
   "formats": "ipynb,py:percent"
  },
  "kernelspec": {
   "display_name": "Python 3 (ipykernel)",
   "language": "python",
   "name": "python3"
  },
  "language_info": {
   "codemirror_mode": {
    "name": "ipython",
    "version": 3
   },
   "file_extension": ".py",
   "mimetype": "text/x-python",
   "name": "python",
   "nbconvert_exporter": "python",
   "pygments_lexer": "ipython3",
   "version": "3.8.12"
  }
 },
 "nbformat": 4,
 "nbformat_minor": 5
}
