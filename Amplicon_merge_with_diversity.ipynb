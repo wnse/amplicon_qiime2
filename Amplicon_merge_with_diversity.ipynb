{
 "cells": [
  {
   "cell_type": "code",
   "execution_count": 1,
   "id": "67004311-76ab-450a-9954-c577a2057213",
   "metadata": {},
   "outputs": [],
   "source": [
    "import sys\n",
    "import os\n",
    "import json\n",
    "import logging\n",
    "\n",
    "import Amplicon_merge\n",
    "import Amplicon_diversity\n",
    "import argparse"
   ]
  },
  {
   "cell_type": "code",
   "execution_count": 10,
   "id": "3ba20959-e4de-4916-9cc0-cba7a7eca568",
   "metadata": {
    "collapsed": true,
    "jupyter": {
     "outputs_hidden": true
    },
    "tags": []
   },
   "outputs": [],
   "source": [
    "if __name__ == '__main__':\n",
    "    bin_dir = os.path.split(os.path.realpath(__file__))[0]\n",
    "    pub_path = os.path.join(bin_dir, '../pub/')\n",
    "    if os.path.isdir(pub_path):\n",
    "        sys.path.append(pub_path)\n",
    "    else:\n",
    "        raise(f'{pub_path} not exists')\n",
    "    \n",
    "    from write_json import write_json\n",
    "    from mkdir import mkdir\n",
    "    \n",
    "    parse = argparse.ArgumentParser(formatter_class=argparse.ArgumentDefaultsHelpFormatter)\n",
    "    parse.add_argument('-i', '--input', required=True, nargs='+', help='asv dir for analysis (absolute path)')\n",
    "    parse.add_argument('-o', '--outdir', required=True, help='out dir for output files')\n",
    "    args = parse.parse_args()\n",
    "\n",
    "    indir = args.input\n",
    "    jsons = [os.path.join(i, 'Amplicon_fq2asv.json') for i in indir]\n",
    "    outdir = args.outdir\n",
    "    # outdir = '/mnt/d/Yangk/work/git/amplicon_qiime2/test_out/merged_out/'\n",
    "    mkdir(outdir)\n",
    "\n",
    "    logfile = os.path.join(outdir, 'log')\n",
    "    logging.basicConfig(level=logging.INFO, filename=logfile, format='%(asctime)s %(levelname)s %(message)s',datefmt='%Y-%m-%d %H:%M:%S')\n",
    "    info_dict = {}\n",
    "    try:\n",
    "        info_dict = Amplicon_merge.merge_all_qza(jsons, outdir)\n",
    "    except Exception as e:\n",
    "        logging.error(e)\n",
    "\n",
    "    try:\n",
    "        info_dict.update(Amplicon_merge.generate_seq_tree(info_dict['merged_seq_qza'], outdir))\n",
    "    except Exception as e:\n",
    "        logging.error(e)\n",
    "\n",
    "    try:\n",
    "        table_qza = info_dict['merged_tab_qza']\n",
    "        tree_qza = info_dict['rooted_tree_qza']\n",
    "        info_dict.update(Amplicon_diversity.get_diversity(table_qza, tree_qza, outdir))\n",
    "    except Exception as e:\n",
    "        logging.error(e)\n",
    "\n",
    "    json_out = write_json(info_dict, outdir=outdir)\n",
    "    if not json_out:\n",
    "        logging.info(f'write json failed')\n",
    "        logging.info(f'{info_dict}')"
   ]
  }
 ],
 "metadata": {
  "jupytext": {
   "formats": "ipynb,auto:percent"
  },
  "kernelspec": {
   "display_name": "Python 3 (ipykernel)",
   "language": "python",
   "name": "python3"
  },
  "language_info": {
   "codemirror_mode": {
    "name": "ipython",
    "version": 3
   },
   "file_extension": ".py",
   "mimetype": "text/x-python",
   "name": "python",
   "nbconvert_exporter": "python",
   "pygments_lexer": "ipython3",
   "version": "3.8.12"
  }
 },
 "nbformat": 4,
 "nbformat_minor": 5
}
