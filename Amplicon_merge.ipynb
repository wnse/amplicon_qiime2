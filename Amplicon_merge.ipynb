{
 "cells": [
  {
   "cell_type": "code",
   "execution_count": 84,
   "id": "a3314f3d",
   "metadata": {},
   "outputs": [],
   "source": [
    "import os\n",
    "import json\n",
    "import pandas as pd\n",
    "import logging\n",
    "import argparse"
   ]
  },
  {
   "cell_type": "code",
   "execution_count": 162,
   "id": "554e2bed",
   "metadata": {},
   "outputs": [],
   "source": [
    "def data2df(data):\n",
    "    from qiime2 import Metadata\n",
    "    return data.view(Metadata).to_dataframe()"
   ]
  },
  {
   "cell_type": "code",
   "execution_count": 109,
   "id": "eeae5af1",
   "metadata": {},
   "outputs": [],
   "source": [
    "outdirs = ['/mnt/d/Yangk/work/git/amplicon_qiime2/test_out/SRR18505774/',\n",
    "           '/mnt/d/Yangk/work/git/amplicon_qiime2/test_out/SRR18505775/',\n",
    "           '/mnt/d/Yangk/work/git/amplicon_qiime2/test_out/SRR18505770/',\n",
    "           '/mnt/d/Yangk/work/git/amplicon_qiime2/test_out/SRR18505774_silva/'\n",
    "          ]\n",
    "\n",
    "names = [i.split('/')[-2]  for i in outdirs]\n",
    "\n",
    "jsons = [os.path.join(i, 'Amplicon_fq2asv.json') for i in outdirs]\n"
   ]
  },
  {
   "cell_type": "code",
   "execution_count": 131,
   "id": "a218adef",
   "metadata": {},
   "outputs": [],
   "source": [
    "def get_qza_list(json_list, qza_name='asv_rep_seqs_qza'):\n",
    "    from qiime2 import Artifact\n",
    "    qza_list = []\n",
    "    for j in jsons:\n",
    "        with open(j,'rt') as h:\n",
    "            fq2asv = json.load(h)\n",
    "            qza_list.append(Artifact.load(fq2asv[qza_name]))\n",
    "    return qza_list\n",
    "\n",
    "def merge_qza(qza_list, outfile, para='seq'):\n",
    "    from qiime2.plugins.feature_table.methods import merge\n",
    "    from qiime2.plugins.feature_table.methods import merge_seqs\n",
    "    from qiime2.plugins.feature_table.methods import merge_taxa\n",
    "    from qiime2 import Metadata\n",
    "    \n",
    "    merge_para = None\n",
    "    if para == 'tab':\n",
    "        merge_para = merge\n",
    "        merged = merge_para(qza_list)\n",
    "        merged.merged_table.save(outfile)\n",
    "        return merged.merged_table.view(Metadata).to_dataframe().T\n",
    "    elif para == 'seq':\n",
    "        merge_para = merge_seqs\n",
    "    elif para == 'taxa':\n",
    "        merge_para = merge_taxa\n",
    "    else:\n",
    "        raise(f'{para} not exists in [tab, seq, taxa]')\n",
    "    if merge_para:\n",
    "        merged = merge_para(qza_list)\n",
    "        merged.merged_data.save(outfile)\n",
    "        return merged.merged_data.view(Metadata).to_dataframe()"
   ]
  },
  {
   "cell_type": "code",
   "execution_count": 136,
   "id": "6fbba48a",
   "metadata": {
    "scrolled": true
   },
   "outputs": [
    {
     "name": "stdout",
     "output_type": "stream",
     "text": [
      "Running external command line application. This may print messages to stdout and/or stderr.\n",
      "The command being run is below. This command cannot be manually re-run as it will depend on temporary files that no longer exist.\n",
      "\n",
      "Command: mafft --preservecase --inputorder --thread 1 /tmp/qiime2-archive-oo4gdvnp/4d233265-149c-4ecd-bc85-e4d3bebb8b30/data/dna-sequences.fasta\n",
      "\n"
     ]
    },
    {
     "name": "stderr",
     "output_type": "stream",
     "text": [
      "inputfile = orig\n",
      "61 x 250 - 73 d\n",
      "nthread = 1\n",
      "nthreadpair = 1\n",
      "nthreadtb = 1\n",
      "ppenalty_ex = 0\n",
      "stacksize: 8192 kb\n",
      "generating a scoring matrix for nucleotide (dist=200) ... done\n",
      "Gap Penalty = -1.53, +0.00, +0.00\n",
      "\n",
      "\n",
      "\n",
      "Making a distance matrix ..\n",
      "\r",
      "    1 / 61 (thread    0)\n",
      "done.\n",
      "\n",
      "Constructing a UPGMA tree (efffree=0) ... \n",
      "\r",
      "    0 / 61\r",
      "   10 / 61\r",
      "   20 / 61\r",
      "   30 / 61\r",
      "   40 / 61\r",
      "   50 / 61\n",
      "done.\n",
      "\n",
      "Progressive alignment 1/2... \n",
      "\r",
      "STEP     1 / 60 (thread    0) f\b\b\r",
      "STEP     2 / 60 (thread    0) f\b\b\r",
      "STEP     3 / 60 (thread    0) f\b\b\r",
      "STEP     4 / 60 (thread    0) f\b\b\r",
      "STEP     5 / 60 (thread    0) f\b\b\r",
      "STEP     6 / 60 (thread    0) f\b\b\r",
      "STEP     7 / 60 (thread    0) f\b\b\r",
      "STEP     8 / 60 (thread    0) f\b\b\r",
      "STEP     9 / 60 (thread    0) f\b\b\r",
      "STEP    10 / 60 (thread    0) f\b\b\r",
      "STEP    11 / 60 (thread    0) f\b\b\r",
      "STEP    12 / 60 (thread    0) f\b\b\r",
      "STEP    13 / 60 (thread    0) f\b\b\r",
      "STEP    14 / 60 (thread    0) f\b\b\r",
      "STEP    15 / 60 (thread    0) f\b\b\r",
      "STEP    16 / 60 (thread    0) f\b\b\r",
      "STEP    17 / 60 (thread    0) f\b\b\r",
      "STEP    18 / 60 (thread    0) f\b\b\r",
      "STEP    19 / 60 (thread    0) f\b\b\r",
      "STEP    20 / 60 (thread    0) f\b\b\r",
      "STEP    21 / 60 (thread    0) f\b\b\r",
      "STEP    22 / 60 (thread    0) f\b\b\r",
      "STEP    23 / 60 (thread    0) f\b\b\r",
      "STEP    24 / 60 (thread    0) f\b\b\r",
      "STEP    25 / 60 (thread    0) f\b\b\r",
      "STEP    26 / 60 (thread    0) f\b\b\r",
      "STEP    27 / 60 (thread    0) f\b\b\r",
      "STEP    28 / 60 (thread    0) f\b\b\r",
      "STEP    29 / 60 (thread    0) f\b\b\r",
      "STEP    30 / 60 (thread    0) f\b\b\r",
      "STEP    31 / 60 (thread    0) f\b\b\r",
      "STEP    32 / 60 (thread    0) f\b\b\r",
      "STEP    33 / 60 (thread    0) f\b\b\n",
      "Reallocating..done. *alloclen = 1501\n",
      "\r",
      "STEP    34 / 60 (thread    0) f\b\b\r",
      "STEP    35 / 60 (thread    0) f\b\b\r",
      "STEP    36 / 60 (thread    0) f\b\b\r",
      "STEP    37 / 60 (thread    0) f\b\b\r",
      "STEP    38 / 60 (thread    0) f\b\b\r",
      "STEP    39 / 60 (thread    0) f\b\b\r",
      "STEP    40 / 60 (thread    0) f\b\b\r",
      "STEP    41 / 60 (thread    0) f\b\b\r",
      "STEP    42 / 60 (thread    0) f\b\b\r",
      "STEP    43 / 60 (thread    0) f\b\b\r",
      "STEP    44 / 60 (thread    0) f\b\b\r",
      "STEP    45 / 60 (thread    0) f\b\b\r",
      "STEP    46 / 60 (thread    0) f\b\b\r",
      "STEP    47 / 60 (thread    0) f\b\b\r",
      "STEP    48 / 60 (thread    0) f\b\b\r",
      "STEP    49 / 60 (thread    0) f\b\b\r",
      "STEP    50 / 60 (thread    0) f\b\b\r",
      "STEP    51 / 60 (thread    0) f\b\b\r",
      "STEP    52 / 60 (thread    0) f\b\b\r",
      "STEP    53 / 60 (thread    0) f\b\b\r",
      "STEP    54 / 60 (thread    0) f\b\b\r",
      "STEP    55 / 60 (thread    0) f\b\b\r",
      "STEP    56 / 60 (thread    0) f\b\b\r",
      "STEP    57 / 60 (thread    0) f\b\b\r",
      "STEP    58 / 60 (thread    0) f\b\b\r",
      "STEP    59 / 60 (thread    0) f\b\b\r",
      "STEP    60 / 60 (thread    0) f\b\b\n",
      "done.\n",
      "\n",
      "Making a distance matrix from msa.. \n",
      "\r",
      "    0 / 61 (thread    0)\n",
      "done.\n",
      "\n",
      "Constructing a UPGMA tree (efffree=1) ... \n",
      "\r",
      "    0 / 61\r",
      "   10 / 61\r",
      "   20 / 61\r",
      "   30 / 61\r",
      "   40 / 61\r",
      "   50 / 61\n",
      "done.\n",
      "\n",
      "Progressive alignment 2/2... \n",
      "\r",
      "STEP     1 / 60 (thread    0) f\b\b\r",
      "STEP     2 / 60 (thread    0) f\b\b\r",
      "STEP     3 / 60 (thread    0) f\b\b\r",
      "STEP     4 / 60 (thread    0) f\b\b\r",
      "STEP     5 / 60 (thread    0) f\b\b\r",
      "STEP     6 / 60 (thread    0) f\b\b\r",
      "STEP     7 / 60 (thread    0) f\b\b\r",
      "STEP     8 / 60 (thread    0) f\b\b\r",
      "STEP     9 / 60 (thread    0) f\b\b\r",
      "STEP    10 / 60 (thread    0) f\b\b\r",
      "STEP    11 / 60 (thread    0) f\b\b\r",
      "STEP    12 / 60 (thread    0) f\b\b\r",
      "STEP    13 / 60 (thread    0) f\b\b\r",
      "STEP    14 / 60 (thread    0) f\b\b\r",
      "STEP    15 / 60 (thread    0) f\b\b\r",
      "STEP    16 / 60 (thread    0) f\b\b\r",
      "STEP    17 / 60 (thread    0) f\b\b\r",
      "STEP    18 / 60 (thread    0) f\b\b\r",
      "STEP    19 / 60 (thread    0) f\b\b\r",
      "STEP    20 / 60 (thread    0) f\b\b\r",
      "STEP    21 / 60 (thread    0) f\b\b\r",
      "STEP    22 / 60 (thread    0) f\b\b\r",
      "STEP    23 / 60 (thread    0) f\b\b\r",
      "STEP    24 / 60 (thread    0) f\b\b\r",
      "STEP    25 / 60 (thread    0) f\b\b\r",
      "STEP    26 / 60 (thread    0) f\b\b\r",
      "STEP    27 / 60 (thread    0) f\b\b\r",
      "STEP    28 / 60 (thread    0) f\b\b\r",
      "STEP    29 / 60 (thread    0) f\b\b\r",
      "STEP    30 / 60 (thread    0) f\b\b\r",
      "STEP    31 / 60 (thread    0) f\b\b\r",
      "STEP    32 / 60 (thread    0) f\b\b\r",
      "STEP    33 / 60 (thread    0) f\b\b\r",
      "STEP    34 / 60 (thread    0) f\b\b\r",
      "STEP    35 / 60 (thread    0) f\b\b\r",
      "STEP    36 / 60 (thread    0) f\b\b\r",
      "STEP    37 / 60 (thread    0) f\b\b\r",
      "STEP    38 / 60 (thread    0) f\b\b\n",
      "Reallocating..done. *alloclen = 1501\n",
      "\r",
      "STEP    39 / 60 (thread    0) f\b\b\r",
      "STEP    40 / 60 (thread    0) f\b\b\r",
      "STEP    41 / 60 (thread    0) f\b\b\r",
      "STEP    42 / 60 (thread    0) f\b\b\r",
      "STEP    43 / 60 (thread    0) f\b\b\r",
      "STEP    44 / 60 (thread    0) f\b\b\r",
      "STEP    45 / 60 (thread    0) f\b\b\r",
      "STEP    46 / 60 (thread    0) f\b\b\r",
      "STEP    47 / 60 (thread    0) f\b\b\r",
      "STEP    48 / 60 (thread    0) f\b\b\r",
      "STEP    49 / 60 (thread    0) f\b\b\r",
      "STEP    50 / 60 (thread    0) f\b\b\r",
      "STEP    51 / 60 (thread    0) f\b\b\r",
      "STEP    52 / 60 (thread    0) f\b\b\r",
      "STEP    53 / 60 (thread    0) f\b\b\r",
      "STEP    54 / 60 (thread    0) f\b\b\r",
      "STEP    55 / 60 (thread    0) f\b\b\r",
      "STEP    56 / 60 (thread    0) f\b\b\r",
      "STEP    57 / 60 (thread    0) f\b\b\r",
      "STEP    58 / 60 (thread    0) f\b\b\r",
      "STEP    59 / 60 (thread    0) f\b\b\r",
      "STEP    60 / 60 (thread    0) f\b\b\n",
      "done.\n",
      "\n",
      "disttbfast (nuc) Version 7.490\n",
      "alg=A, model=DNA200 (2), 1.53 (4.59), -0.00 (-0.00), noshift, amax=0.0\n",
      "1 thread(s)\n",
      "\n",
      "\n",
      "Strategy:\n",
      " FFT-NS-2 (Fast but rough)\n",
      " Progressive method (guide trees were built 2 times.)\n",
      "\n",
      "If unsure which option to use, try 'mafft --auto input > output'.\n",
      "For more information, see 'mafft --help', 'mafft --man' and the mafft page.\n",
      "\n",
      "The default gap scoring scheme has been changed in version 7.110 (2013 Oct).\n",
      "It tends to insert more gaps into gap-rich regions than previous versions.\n",
      "To disable this change, add the --leavegappyregion option.\n",
      "\n"
     ]
    },
    {
     "name": "stdout",
     "output_type": "stream",
     "text": [
      "Running external command line application. This may print messages to stdout and/or stderr.\n",
      "The command being run is below. This command cannot be manually re-run as it will depend on temporary files that no longer exist.\n",
      "\n",
      "Command: FastTree -quote -nt /tmp/qiime2-archive-idtve5vx/e4c1db4e-54a7-4910-bf9c-bf9ae5717ac7/data/aligned-dna-sequences.fasta\n",
      "\n"
     ]
    },
    {
     "name": "stderr",
     "output_type": "stream",
     "text": [
      "FastTree Version 2.1.10 Double precision (No SSE3)\n",
      "Alignment: /tmp/qiime2-archive-idtve5vx/e4c1db4e-54a7-4910-bf9c-bf9ae5717ac7/data/aligned-dna-sequences.fasta\n",
      "Nucleotide distances: Jukes-Cantor Joins: balanced Support: SH-like 1000\n",
      "Search: Normal +NNI +SPR (2 rounds range 10) +ML-NNI opt-each=1\n",
      "TopHits: 1.00*sqrtN close=default refresh=0.80\n",
      "ML Model: Jukes-Cantor, CAT approximation with 20 rate categories\n",
      "Initial topology in 0.01 seconds\n",
      "Refining topology: 24 rounds ME-NNIs, 2 rounds ME-SPRs, 12 rounds ML-NNIs\n",
      "Total branch-length 4.732 after 0.05 sec\n",
      "ML-NNI round 1: LogLk = -4945.246 NNIs 14 max delta 7.18 Time 0.08\n",
      "Switched to using 20 rate categories (CAT approximation)\n",
      "Rate categories were divided by 0.869 so that average rate = 1.0\n",
      "CAT-based log-likelihoods may not be comparable across runs\n",
      "Use -gamma for approximate but comparable Gamma(20) log-likelihoods\n",
      "ML-NNI round 2: LogLk = -4365.246 NNIs 5 max delta 0.95 Time 0.10\n",
      "ML-NNI round 3: LogLk = -4364.570 NNIs 2 max delta 0.00 Time 0.10\n",
      "Turning off heuristics for final round of ML NNIs (converged)\n",
      "      0.10 seconds: ML NNI round 4 of 12, 1 of 59 splits\n",
      "ML-NNI round 4: LogLk = -4364.187 NNIs 1 max delta 0.18 Time 0.12 (final)\n",
      "Optimize all lengths: LogLk = -4364.169 Time 0.13\n",
      "Total time: 0.16 seconds Unique: 61/61 Bad splits: 0/58\n"
     ]
    }
   ],
   "source": [
    "def generate_seq_tree(rep_seq_qza):\n",
    "    import qiime2.plugins.phylogeny.actions as phylogeny_actions\n",
    "\n",
    "    action_results = phylogeny_actions.align_to_tree_mafft_fasttree(\n",
    "        sequences=rep_seq_qza,\n",
    "    )\n",
    "    aligned_rep_seqs = action_results.alignment\n",
    "    masked_aligned_rep_seqs = action_results.masked_alignment\n",
    "    unrooted_tree = action_results.tree\n",
    "    rooted_tree = action_results.rooted_tree\n",
    "    return unrooted_tree, rooted_tree\n",
    "\n",
    "rep_seqs = Artifact.load('test_out/merged_seq.qza')\n",
    "unrooted_tree, rooted_tree = generate_seq_tree(rep_seqs)\n"
   ]
  },
  {
   "cell_type": "code",
   "execution_count": 156,
   "id": "8607d07e",
   "metadata": {
    "scrolled": true
   },
   "outputs": [
    {
     "name": "stderr",
     "output_type": "stream",
     "text": [
      "/home/yangk/anaconda3/envs/qiime2-2022.2/lib/python3.8/site-packages/sklearn/metrics/pairwise.py:1776: DataConversionWarning: Data was converted to boolean for metric jaccard\n",
      "  warnings.warn(msg, DataConversionWarning)\n"
     ]
    }
   ],
   "source": [
    "def get_diversity(sample_meta, table, tree):\n",
    "    import qiime2.plugins.diversity.actions as diversity_actions\n",
    "    action_results = diversity_actions.core_metrics_phylogenetic(\n",
    "        phylogeny=rooted_tree,\n",
    "        table=table,\n",
    "        sampling_depth=10000,\n",
    "        metadata=sample_meta,\n",
    "    )\n",
    "    return action_results\n",
    "\n",
    "table = Artifact.load('test_out/merged_table.qza')\n",
    "action_results = get_diversity(sample_meta, table, rooted_tree)\n"
   ]
  },
  {
   "cell_type": "code",
   "execution_count": 214,
   "id": "79364b08",
   "metadata": {},
   "outputs": [],
   "source": [
    "alpha_list = [action_results.faith_pd_vector, action_results.observed_features_vector, \n",
    "              action_results.shannon_vector, action_results.evenness_vector]\n",
    "df_alpha_vector = pd.concat([i.view(pd.Series) for i in alpha_list], axis=1)"
   ]
  },
  {
   "cell_type": "code",
   "execution_count": 221,
   "id": "46f9ecc5",
   "metadata": {},
   "outputs": [],
   "source": [
    "action_results.jaccard_distance_matrix.export_data('test_out/jaccard_distance_matrix/')"
   ]
  },
  {
   "cell_type": "code",
   "execution_count": 159,
   "id": "0b526a7f",
   "metadata": {
    "scrolled": true
   },
   "outputs": [
    {
     "data": {
      "text/plain": [
       "id\n",
       "SRR18505774          10000.0\n",
       "SRR18505775          10000.0\n",
       "SRR18505770          10000.0\n",
       "SRR18505774_silva    10000.0\n",
       "dtype: float64"
      ]
     },
     "execution_count": 159,
     "metadata": {},
     "output_type": "execute_result"
    }
   ],
   "source": [
    "action_results.rarefied_table.view(Metadata).to_dataframe().sum(axis=1)"
   ]
  },
  {
   "cell_type": "code",
   "execution_count": 163,
   "id": "0173eb96",
   "metadata": {
    "scrolled": false
   },
   "outputs": [
    {
     "data": {
      "text/html": [
       "<div>\n",
       "<style scoped>\n",
       "    .dataframe tbody tr th:only-of-type {\n",
       "        vertical-align: middle;\n",
       "    }\n",
       "\n",
       "    .dataframe tbody tr th {\n",
       "        vertical-align: top;\n",
       "    }\n",
       "\n",
       "    .dataframe thead th {\n",
       "        text-align: right;\n",
       "    }\n",
       "</style>\n",
       "<table border=\"1\" class=\"dataframe\">\n",
       "  <thead>\n",
       "    <tr style=\"text-align: right;\">\n",
       "      <th></th>\n",
       "      <th>faith_pd</th>\n",
       "    </tr>\n",
       "    <tr>\n",
       "      <th>Sample ID</th>\n",
       "      <th></th>\n",
       "    </tr>\n",
       "  </thead>\n",
       "  <tbody>\n",
       "    <tr>\n",
       "      <th>SRR18505774</th>\n",
       "      <td>4.711365</td>\n",
       "    </tr>\n",
       "    <tr>\n",
       "      <th>SRR18505775</th>\n",
       "      <td>4.280283</td>\n",
       "    </tr>\n",
       "    <tr>\n",
       "      <th>SRR18505770</th>\n",
       "      <td>3.872025</td>\n",
       "    </tr>\n",
       "    <tr>\n",
       "      <th>SRR18505774_silva</th>\n",
       "      <td>4.960432</td>\n",
       "    </tr>\n",
       "  </tbody>\n",
       "</table>\n",
       "</div>"
      ],
      "text/plain": [
       "                   faith_pd\n",
       "Sample ID                  \n",
       "SRR18505774        4.711365\n",
       "SRR18505775        4.280283\n",
       "SRR18505770        3.872025\n",
       "SRR18505774_silva  4.960432"
      ]
     },
     "execution_count": 163,
     "metadata": {},
     "output_type": "execute_result"
    }
   ],
   "source": [
    "data2df(action_results.faith_pd_vector)"
   ]
  },
  {
   "cell_type": "code",
   "execution_count": 205,
   "id": "692c79ca",
   "metadata": {
    "scrolled": false
   },
   "outputs": [
    {
     "data": {
      "text/plain": [
       "SRR18505774          4.711365\n",
       "SRR18505775          4.280283\n",
       "SRR18505770          3.872025\n",
       "SRR18505774_silva    4.960432\n",
       "Name: faith_pd, dtype: float64"
      ]
     },
     "execution_count": 205,
     "metadata": {},
     "output_type": "execute_result"
    }
   ],
   "source": [
    "action_results.faith_pd_vector.view(pd.Series)"
   ]
  },
  {
   "cell_type": "code",
   "execution_count": 204,
   "id": "9b132f9e",
   "metadata": {
    "scrolled": true
   },
   "outputs": [
    {
     "ename": "Exception",
     "evalue": "No transformation from <class 'q2_types.ordination._format.OrdinationDirectoryFormat'> to <class 'pandas.core.frame.DataFrame'>",
     "output_type": "error",
     "traceback": [
      "\u001b[0;31m---------------------------------------------------------------------------\u001b[0m",
      "\u001b[0;31mException\u001b[0m                                 Traceback (most recent call last)",
      "Input \u001b[0;32mIn [204]\u001b[0m, in \u001b[0;36m<module>\u001b[0;34m\u001b[0m\n\u001b[0;32m----> 1\u001b[0m \u001b[43maction_results\u001b[49m\u001b[38;5;241;43m.\u001b[39;49m\u001b[43munweighted_unifrac_pcoa_results\u001b[49m\u001b[38;5;241;43m.\u001b[39;49m\u001b[43mview\u001b[49m\u001b[43m(\u001b[49m\u001b[43mpd\u001b[49m\u001b[38;5;241;43m.\u001b[39;49m\u001b[43mDataFrame\u001b[49m\u001b[43m)\u001b[49m\n",
      "File \u001b[0;32m~/anaconda3/envs/qiime2-2022.2/lib/python3.8/site-packages/qiime2/sdk/result.py:319\u001b[0m, in \u001b[0;36mArtifact.view\u001b[0;34m(self, view_type)\u001b[0m\n\u001b[1;32m    318\u001b[0m \u001b[38;5;28;01mdef\u001b[39;00m \u001b[38;5;21mview\u001b[39m(\u001b[38;5;28mself\u001b[39m, view_type):\n\u001b[0;32m--> 319\u001b[0m     \u001b[38;5;28;01mreturn\u001b[39;00m \u001b[38;5;28;43mself\u001b[39;49m\u001b[38;5;241;43m.\u001b[39;49m\u001b[43m_view\u001b[49m\u001b[43m(\u001b[49m\u001b[43mview_type\u001b[49m\u001b[43m)\u001b[49m\n",
      "File \u001b[0;32m~/anaconda3/envs/qiime2-2022.2/lib/python3.8/site-packages/qiime2/sdk/result.py:329\u001b[0m, in \u001b[0;36mArtifact._view\u001b[0;34m(self, view_type, recorder)\u001b[0m\n\u001b[1;32m    326\u001b[0m from_type \u001b[38;5;241m=\u001b[39m transform\u001b[38;5;241m.\u001b[39mModelType\u001b[38;5;241m.\u001b[39mfrom_view_type(\u001b[38;5;28mself\u001b[39m\u001b[38;5;241m.\u001b[39mformat)\n\u001b[1;32m    327\u001b[0m to_type \u001b[38;5;241m=\u001b[39m transform\u001b[38;5;241m.\u001b[39mModelType\u001b[38;5;241m.\u001b[39mfrom_view_type(view_type)\n\u001b[0;32m--> 329\u001b[0m transformation \u001b[38;5;241m=\u001b[39m \u001b[43mfrom_type\u001b[49m\u001b[38;5;241;43m.\u001b[39;49m\u001b[43mmake_transformation\u001b[49m\u001b[43m(\u001b[49m\u001b[43mto_type\u001b[49m\u001b[43m,\u001b[49m\n\u001b[1;32m    330\u001b[0m \u001b[43m                                               \u001b[49m\u001b[43mrecorder\u001b[49m\u001b[38;5;241;43m=\u001b[39;49m\u001b[43mrecorder\u001b[49m\u001b[43m)\u001b[49m\n\u001b[1;32m    331\u001b[0m result \u001b[38;5;241m=\u001b[39m transformation(\u001b[38;5;28mself\u001b[39m\u001b[38;5;241m.\u001b[39m_archiver\u001b[38;5;241m.\u001b[39mdata_dir)\n\u001b[1;32m    333\u001b[0m \u001b[38;5;28;01mif\u001b[39;00m view_type \u001b[38;5;129;01mis\u001b[39;00m qiime2\u001b[38;5;241m.\u001b[39mMetadata:\n",
      "File \u001b[0;32m~/anaconda3/envs/qiime2-2022.2/lib/python3.8/site-packages/qiime2/core/transform.py:58\u001b[0m, in \u001b[0;36mModelType.make_transformation\u001b[0;34m(self, other, recorder)\u001b[0m\n\u001b[1;32m     56\u001b[0m transformer, transformer_record \u001b[38;5;241m=\u001b[39m \u001b[38;5;28mself\u001b[39m\u001b[38;5;241m.\u001b[39m_get_transformer_to(other)\n\u001b[1;32m     57\u001b[0m \u001b[38;5;28;01mif\u001b[39;00m transformer \u001b[38;5;129;01mis\u001b[39;00m \u001b[38;5;28;01mNone\u001b[39;00m:\n\u001b[0;32m---> 58\u001b[0m     \u001b[38;5;28;01mraise\u001b[39;00m \u001b[38;5;167;01mException\u001b[39;00m(\u001b[38;5;124m\"\u001b[39m\u001b[38;5;124mNo transformation from \u001b[39m\u001b[38;5;132;01m%r\u001b[39;00m\u001b[38;5;124m to \u001b[39m\u001b[38;5;132;01m%r\u001b[39;00m\u001b[38;5;124m\"\u001b[39m \u001b[38;5;241m%\u001b[39m\n\u001b[1;32m     59\u001b[0m                     (\u001b[38;5;28mself\u001b[39m\u001b[38;5;241m.\u001b[39m_view_type, other\u001b[38;5;241m.\u001b[39m_view_type))\n\u001b[1;32m     61\u001b[0m \u001b[38;5;28;01mif\u001b[39;00m recorder \u001b[38;5;129;01mis\u001b[39;00m \u001b[38;5;129;01mnot\u001b[39;00m \u001b[38;5;28;01mNone\u001b[39;00m:\n\u001b[1;32m     62\u001b[0m     recorder(transformer_record, input_name\u001b[38;5;241m=\u001b[39m\u001b[38;5;28mself\u001b[39m\u001b[38;5;241m.\u001b[39m_view_name,\n\u001b[1;32m     63\u001b[0m              input_record\u001b[38;5;241m=\u001b[39m\u001b[38;5;28mself\u001b[39m\u001b[38;5;241m.\u001b[39m_record, output_name\u001b[38;5;241m=\u001b[39mother\u001b[38;5;241m.\u001b[39m_view_name,\n\u001b[1;32m     64\u001b[0m              output_record\u001b[38;5;241m=\u001b[39mother\u001b[38;5;241m.\u001b[39m_record)\n",
      "\u001b[0;31mException\u001b[0m: No transformation from <class 'q2_types.ordination._format.OrdinationDirectoryFormat'> to <class 'pandas.core.frame.DataFrame'>"
     ]
    }
   ],
   "source": [
    "action_results.unweighted_unifrac_pcoa_results.view()"
   ]
  },
  {
   "cell_type": "code",
   "execution_count": 211,
   "id": "f9379e69",
   "metadata": {
    "scrolled": true
   },
   "outputs": [
    {
     "ename": "Exception",
     "evalue": "No transformation from <class 'q2_types.ordination._format.OrdinationDirectoryFormat'> to <class 'pandas.core.frame.DataFrame'>",
     "output_type": "error",
     "traceback": [
      "\u001b[0;31m---------------------------------------------------------------------------\u001b[0m",
      "\u001b[0;31mException\u001b[0m                                 Traceback (most recent call last)",
      "Input \u001b[0;32mIn [211]\u001b[0m, in \u001b[0;36m<module>\u001b[0;34m\u001b[0m\n\u001b[0;32m----> 1\u001b[0m \u001b[43maction_results\u001b[49m\u001b[38;5;241;43m.\u001b[39;49m\u001b[43munweighted_unifrac_pcoa_results\u001b[49m\u001b[38;5;241;43m.\u001b[39;49m\u001b[43mview\u001b[49m\u001b[43m(\u001b[49m\u001b[43mpd\u001b[49m\u001b[38;5;241;43m.\u001b[39;49m\u001b[43mDataFrame\u001b[49m\u001b[43m)\u001b[49m\n",
      "File \u001b[0;32m~/anaconda3/envs/qiime2-2022.2/lib/python3.8/site-packages/qiime2/sdk/result.py:319\u001b[0m, in \u001b[0;36mArtifact.view\u001b[0;34m(self, view_type)\u001b[0m\n\u001b[1;32m    318\u001b[0m \u001b[38;5;28;01mdef\u001b[39;00m \u001b[38;5;21mview\u001b[39m(\u001b[38;5;28mself\u001b[39m, view_type):\n\u001b[0;32m--> 319\u001b[0m     \u001b[38;5;28;01mreturn\u001b[39;00m \u001b[38;5;28;43mself\u001b[39;49m\u001b[38;5;241;43m.\u001b[39;49m\u001b[43m_view\u001b[49m\u001b[43m(\u001b[49m\u001b[43mview_type\u001b[49m\u001b[43m)\u001b[49m\n",
      "File \u001b[0;32m~/anaconda3/envs/qiime2-2022.2/lib/python3.8/site-packages/qiime2/sdk/result.py:329\u001b[0m, in \u001b[0;36mArtifact._view\u001b[0;34m(self, view_type, recorder)\u001b[0m\n\u001b[1;32m    326\u001b[0m from_type \u001b[38;5;241m=\u001b[39m transform\u001b[38;5;241m.\u001b[39mModelType\u001b[38;5;241m.\u001b[39mfrom_view_type(\u001b[38;5;28mself\u001b[39m\u001b[38;5;241m.\u001b[39mformat)\n\u001b[1;32m    327\u001b[0m to_type \u001b[38;5;241m=\u001b[39m transform\u001b[38;5;241m.\u001b[39mModelType\u001b[38;5;241m.\u001b[39mfrom_view_type(view_type)\n\u001b[0;32m--> 329\u001b[0m transformation \u001b[38;5;241m=\u001b[39m \u001b[43mfrom_type\u001b[49m\u001b[38;5;241;43m.\u001b[39;49m\u001b[43mmake_transformation\u001b[49m\u001b[43m(\u001b[49m\u001b[43mto_type\u001b[49m\u001b[43m,\u001b[49m\n\u001b[1;32m    330\u001b[0m \u001b[43m                                               \u001b[49m\u001b[43mrecorder\u001b[49m\u001b[38;5;241;43m=\u001b[39;49m\u001b[43mrecorder\u001b[49m\u001b[43m)\u001b[49m\n\u001b[1;32m    331\u001b[0m result \u001b[38;5;241m=\u001b[39m transformation(\u001b[38;5;28mself\u001b[39m\u001b[38;5;241m.\u001b[39m_archiver\u001b[38;5;241m.\u001b[39mdata_dir)\n\u001b[1;32m    333\u001b[0m \u001b[38;5;28;01mif\u001b[39;00m view_type \u001b[38;5;129;01mis\u001b[39;00m qiime2\u001b[38;5;241m.\u001b[39mMetadata:\n",
      "File \u001b[0;32m~/anaconda3/envs/qiime2-2022.2/lib/python3.8/site-packages/qiime2/core/transform.py:58\u001b[0m, in \u001b[0;36mModelType.make_transformation\u001b[0;34m(self, other, recorder)\u001b[0m\n\u001b[1;32m     56\u001b[0m transformer, transformer_record \u001b[38;5;241m=\u001b[39m \u001b[38;5;28mself\u001b[39m\u001b[38;5;241m.\u001b[39m_get_transformer_to(other)\n\u001b[1;32m     57\u001b[0m \u001b[38;5;28;01mif\u001b[39;00m transformer \u001b[38;5;129;01mis\u001b[39;00m \u001b[38;5;28;01mNone\u001b[39;00m:\n\u001b[0;32m---> 58\u001b[0m     \u001b[38;5;28;01mraise\u001b[39;00m \u001b[38;5;167;01mException\u001b[39;00m(\u001b[38;5;124m\"\u001b[39m\u001b[38;5;124mNo transformation from \u001b[39m\u001b[38;5;132;01m%r\u001b[39;00m\u001b[38;5;124m to \u001b[39m\u001b[38;5;132;01m%r\u001b[39;00m\u001b[38;5;124m\"\u001b[39m \u001b[38;5;241m%\u001b[39m\n\u001b[1;32m     59\u001b[0m                     (\u001b[38;5;28mself\u001b[39m\u001b[38;5;241m.\u001b[39m_view_type, other\u001b[38;5;241m.\u001b[39m_view_type))\n\u001b[1;32m     61\u001b[0m \u001b[38;5;28;01mif\u001b[39;00m recorder \u001b[38;5;129;01mis\u001b[39;00m \u001b[38;5;129;01mnot\u001b[39;00m \u001b[38;5;28;01mNone\u001b[39;00m:\n\u001b[1;32m     62\u001b[0m     recorder(transformer_record, input_name\u001b[38;5;241m=\u001b[39m\u001b[38;5;28mself\u001b[39m\u001b[38;5;241m.\u001b[39m_view_name,\n\u001b[1;32m     63\u001b[0m              input_record\u001b[38;5;241m=\u001b[39m\u001b[38;5;28mself\u001b[39m\u001b[38;5;241m.\u001b[39m_record, output_name\u001b[38;5;241m=\u001b[39mother\u001b[38;5;241m.\u001b[39m_view_name,\n\u001b[1;32m     64\u001b[0m              output_record\u001b[38;5;241m=\u001b[39mother\u001b[38;5;241m.\u001b[39m_record)\n",
      "\u001b[0;31mException\u001b[0m: No transformation from <class 'q2_types.ordination._format.OrdinationDirectoryFormat'> to <class 'pandas.core.frame.DataFrame'>"
     ]
    }
   ],
   "source": [
    "action_results.unweighted_unifrac_pcoa_results.view(pd.DataFrame)"
   ]
  },
  {
   "cell_type": "code",
   "execution_count": 192,
   "id": "1435a4b4",
   "metadata": {},
   "outputs": [],
   "source": [
    "action_results.unweighted_unifrac_pcoa_results.export_data('test_out/unweighted_unifrac_pcoa_results')"
   ]
  },
  {
   "cell_type": "code",
   "execution_count": 206,
   "id": "efb882f2",
   "metadata": {},
   "outputs": [],
   "source": [
    "action_results.jaccard_pcoa_results.export_data('test_out/jaccard_pcoa_results')"
   ]
  },
  {
   "cell_type": "code",
   "execution_count": 210,
   "id": "2bfb9379",
   "metadata": {},
   "outputs": [],
   "source": [
    "action_results.jaccard_emperor.export_data('test_out/jaccard_emperor/')"
   ]
  },
  {
   "cell_type": "code",
   "execution_count": 173,
   "id": "be47efc0",
   "metadata": {},
   "outputs": [],
   "source": [
    "unweighted_unifrac_distance_matrix = action_results.unweighted_unifrac_distance_matrix"
   ]
  },
  {
   "cell_type": "code",
   "execution_count": 179,
   "id": "364c6abd",
   "metadata": {},
   "outputs": [
    {
     "data": {
      "text/plain": [
       "{'SRR18505770', 'SRR18505774', 'SRR18505774_silva', 'SRR18505775'}"
      ]
     },
     "execution_count": 179,
     "metadata": {},
     "output_type": "execute_result"
    }
   ],
   "source": [
    "sample_meta.get_ids()"
   ]
  },
  {
   "cell_type": "code",
   "execution_count": null,
   "id": "c2a22903",
   "metadata": {},
   "outputs": [],
   "source": []
  },
  {
   "cell_type": "code",
   "execution_count": 183,
   "id": "9bd8e7c2",
   "metadata": {},
   "outputs": [],
   "source": [
    "df_meta = pd.DataFrame(names)\n",
    "df_meta.columns=['sample-id']\n",
    "df_meta['sample'] = df_meta['sample-id']"
   ]
  },
  {
   "cell_type": "code",
   "execution_count": 186,
   "id": "70af624a",
   "metadata": {},
   "outputs": [],
   "source": [
    "df_meta.to_csv('test_out/tmpmanifest', sep='\\t', index=False)"
   ]
  },
  {
   "cell_type": "code",
   "execution_count": 187,
   "id": "e4f18caa",
   "metadata": {},
   "outputs": [],
   "source": [
    "sample_meta = Metadata.load('test_out/tmpmanifest')"
   ]
  },
  {
   "cell_type": "code",
   "execution_count": null,
   "id": "c59be5f4",
   "metadata": {},
   "outputs": [],
   "source": []
  },
  {
   "cell_type": "code",
   "execution_count": 120,
   "id": "51b33503",
   "metadata": {},
   "outputs": [],
   "source": [
    "seq_qza_list = get_qza_list(jsons, qza_name='asv_rep_seqs_qza')\n",
    "\n",
    "outfile = 'test_out/merged_seq.qza'\n",
    "merged_seq = merge_qza(seq_qza_list, outfile=outfile, para='seq')"
   ]
  },
  {
   "cell_type": "code",
   "execution_count": 119,
   "id": "5abd9035",
   "metadata": {},
   "outputs": [],
   "source": [
    "seq_qza_list = get_qza_list(jsons, qza_name='asv_table_qza')\n",
    "\n",
    "outfile = 'test_out/merged_tax.qza'\n",
    "merged_tax = merge_qza(seq_qza_list, outfile=outfile, para='taxa')"
   ]
  },
  {
   "cell_type": "code",
   "execution_count": 127,
   "id": "d17a4bd7",
   "metadata": {},
   "outputs": [],
   "source": [
    "# def get_qza_list(json_list, qza_name='asv_rep_seqs_qza'):\n",
    "from qiime2 import Artifact\n",
    "qza_list = []\n",
    "for j in jsons:\n",
    "    with open(j,'rt') as h:\n",
    "        fq2asv = json.load(h)\n",
    "        qza_list.append(Artifact.load(os.path.join(os.path.split(fq2asv['asv_rep_seqs_qza'])[0], 'asv_table.qza')))\n",
    "# return qza_list\n",
    "# seq_qza_list = get_qza_list(jsons, qza_name='asv_table_qza')\n",
    "\n",
    "outfile = 'test_out/merged_table.qza'\n",
    "merged_tab = merge_qza(qza_list, outfile=outfile, para='tab')"
   ]
  },
  {
   "cell_type": "code",
   "execution_count": 137,
   "id": "437f0d9d",
   "metadata": {
    "scrolled": true
   },
   "outputs": [
    {
     "data": {
      "text/plain": [
       "id\n",
       "SRR18505774          34220.0\n",
       "SRR18505775          56727.0\n",
       "SRR18505770          13388.0\n",
       "SRR18505774_silva    34220.0\n",
       "dtype: float64"
      ]
     },
     "execution_count": 137,
     "metadata": {},
     "output_type": "execute_result"
    }
   ],
   "source": [
    "merged_tab.sum()"
   ]
  },
  {
   "cell_type": "code",
   "execution_count": null,
   "id": "91a482e0",
   "metadata": {},
   "outputs": [],
   "source": []
  },
  {
   "cell_type": "code",
   "execution_count": null,
   "id": "9123a0c8",
   "metadata": {},
   "outputs": [],
   "source": []
  },
  {
   "cell_type": "code",
   "execution_count": null,
   "id": "bba6d975",
   "metadata": {},
   "outputs": [],
   "source": []
  }
 ],
 "metadata": {
  "kernelspec": {
   "display_name": "Python 3 (ipykernel)",
   "language": "python",
   "name": "python3"
  },
  "language_info": {
   "codemirror_mode": {
    "name": "ipython",
    "version": 3
   },
   "file_extension": ".py",
   "mimetype": "text/x-python",
   "name": "python",
   "nbconvert_exporter": "python",
   "pygments_lexer": "ipython3",
   "version": "3.8.12"
  }
 },
 "nbformat": 4,
 "nbformat_minor": 5
}
