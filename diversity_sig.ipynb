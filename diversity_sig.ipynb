{
 "cells": [
  {
   "cell_type": "code",
   "execution_count": 2,
   "id": "6bca9945-3853-4d51-9a07-0fbe1e7af450",
   "metadata": {},
   "outputs": [],
   "source": [
    "import pandas as pd\n",
    "import json\n",
    "import os\n",
    "import logging\n",
    "logging.basicConfig(level=logging.INFO, \n",
    "                    # filename=logfile, \n",
    "                    format='%(asctime)s %(levelname)s %(message)s',datefmt='%Y-%m-%d %H:%M:%S')"
   ]
  },
  {
   "cell_type": "code",
   "execution_count": 3,
   "id": "f3a012be-1df3-48df-8cba-44ad79e124e9",
   "metadata": {},
   "outputs": [],
   "source": [
    "def export_alpha_sig(vector_artifact, metadata_md):\n",
    "    import qiime2.plugins.diversity.actions as diversity_actions\n",
    "    viz, = diversity_actions.alpha_group_significance(\n",
    "        alpha_diversity=vector_artifact,\n",
    "        metadata=metadata_md,\n",
    "    )\n",
    "    return viz\n",
    "    "
   ]
  },
  {
   "cell_type": "code",
   "execution_count": 4,
   "id": "c921203f-06b2-450e-856a-93b32842d523",
   "metadata": {},
   "outputs": [],
   "source": [
    "def get_alpha_vectors_sig(alpha_index_csv, metadata_csv, outdir):\n",
    "    from qiime2 import Artifact\n",
    "    from qiime2 import Metadata\n",
    "    metadata_md = Metadata.load(metadata_csv)\n",
    "    df_vectors = pd.read_csv(alpha_index_csv, index_col=0)\n",
    "    metrics = ['faith_pd', 'observed_features', 'shannon_entropy' ,'pielou_evenness']\n",
    "    for m in metrics:\n",
    "        if m in df_vectors.columns:\n",
    "            tmp_vector = Artifact.import_data('SampleData[AlphaDiversity]', df_vectors[m])\n",
    "            tmp_viz = export_alpha_sig(tmp_vector, metadata_md)\n",
    "            tmp_viz.export_data(os.path.join(outdir, m))\n",
    "        else:\n",
    "            logging.info(f'{m} not in {alpha_index_csv} columns')\n",
    "        "
   ]
  },
  {
   "cell_type": "code",
   "execution_count": null,
   "id": "f02c5325-7492-4721-857c-899d92387c6d",
   "metadata": {},
   "outputs": [],
   "source": []
  },
  {
   "cell_type": "code",
   "execution_count": 5,
   "id": "932b2ffa-0893-477e-bd68-4a0163732061",
   "metadata": {},
   "outputs": [],
   "source": [
    "json_file = 'test_out/merge_out/Amplicon_merge_with_diversity.json'\n",
    "\n",
    "with open(json_file, 'rt') as H:\n",
    "    merge_info = json.load(H)\n",
    "alpha_index_csv = merge_info['alpha_index_csv']\n",
    "\n",
    "outdir = 'test_out/div_sig/'\n",
    "metadata_csv = 'test_out/div_sig/metadata.csv'\n",
    "get_alpha_vectors_sig(alpha_index_csv, metadata_csv, outdir)"
   ]
  },
  {
   "cell_type": "code",
   "execution_count": null,
   "id": "f8418e1b-37f3-48c1-acf7-66d76997b182",
   "metadata": {},
   "outputs": [],
   "source": []
  },
  {
   "cell_type": "code",
   "execution_count": 22,
   "id": "201f0a10-edeb-4cbe-8652-972191731f62",
   "metadata": {},
   "outputs": [],
   "source": [
    "def export_ancom_sig(table_artifact, metadata_categroy):\n",
    "    import qiime2.plugins.composition.actions as composition_actions\n",
    "    comp_table, = composition_actions.add_pseudocount(\n",
    "        table=table_artifact,\n",
    "    )\n",
    "    ancom_viz, = composition_actions.ancom(\n",
    "        table=comp_table,\n",
    "        metadata=metadata_categroy,\n",
    "    )\n",
    "    return ancom_viz\n",
    "\n",
    "def get_ancom_sig(table, metadata, outdir):\n",
    "    # from qiime2 import Artifact\n",
    "    # from qiime2 import Metadata\n",
    "    # metadata_md = Metadata.load(metadata_csv)\n",
    "    # table = Artifact.load(table_qza)\n",
    "    \n",
    "    for group in metadata.columns:\n",
    "        logging.info(f'get_ancom_sig: {group}')\n",
    "        try:\n",
    "            ancom_viz = export_ancom_sig(table, metadata.get_column(group))\n",
    "            ancom_viz.export_data(os.path.join(outdir, f'ancom_{group}'))\n",
    "        except Exception as e:\n",
    "            logging.error(e)\n",
    "            \n",
    "def get_ancom_sig_taxa(table_qza, metadata_csv, tax_qza, outdir):\n",
    "    from qiime2 import Artifact\n",
    "    from qiime2 import Metadata\n",
    "    import qiime2.plugins.taxa.actions as taxa_actions\n",
    "    metadata_md = Metadata.load(metadata_csv)\n",
    "    table = Artifact.load(table_qza)\n",
    "    taxonomy = Artifact.load(tax_qza)\n",
    "    # for i in range(7):\n",
    "    tax_table, = taxa_actions.collapse(\n",
    "        table=table,\n",
    "        taxonomy=taxonomy,\n",
    "        level=6,\n",
    "    )\n",
    "    get_ancom_sig(tax_table, metadata_md, outdir)\n",
    "    \n"
   ]
  },
  {
   "cell_type": "code",
   "execution_count": 23,
   "id": "30c3b79b-4873-46ac-9413-311f5246e6ac",
   "metadata": {},
   "outputs": [
    {
     "name": "stderr",
     "output_type": "stream",
     "text": [
      "2022-04-12 17:44:28 INFO get_ancom_sig: sample\n",
      "2022-04-12 17:44:28 ERROR All values in `grouping` are unique. This method cannot operate on a grouping vector with only unique values (e.g., there are no 'within' variance because each group of samples contains only a single sample).\n",
      "2022-04-12 17:44:28 INFO get_ancom_sig: group\n",
      "/home/yangk/anaconda3/envs/qiime2-2022.2/lib/python3.8/site-packages/scipy/stats/_stats_py.py:3659: F_onewayConstantInputWarning: Each of the input arrays is constant;the F statistic is not defined or infinite\n",
      "  warnings.warn(F_onewayConstantInputWarning())\n",
      "2022-04-12 17:44:39 INFO get_ancom_sig: 11\n",
      "/home/yangk/anaconda3/envs/qiime2-2022.2/lib/python3.8/site-packages/scipy/stats/_stats_py.py:3659: F_onewayConstantInputWarning: Each of the input arrays is constant;the F statistic is not defined or infinite\n",
      "  warnings.warn(F_onewayConstantInputWarning())\n"
     ]
    }
   ],
   "source": [
    "json_file = 'test_out/merge_out/Amplicon_merge_with_diversity.json'\n",
    "\n",
    "with open(json_file, 'rt') as H:\n",
    "    merge_info = json.load(H)\n",
    "table_qza = merge_info['merged_tab_qza']\n",
    "tax_qza = merge_info['merged_tax_qza']\n",
    "outdir = 'test_out/div_sig/'\n",
    "metadata_csv = 'test_out/div_sig/metadata.csv'\n",
    "get_ancom_sig_taxa(table_qza, metadata_csv, tax_qza, outdir)"
   ]
  },
  {
   "cell_type": "code",
   "execution_count": null,
   "id": "1be2dd32-d23d-40ae-bfeb-6109041e5302",
   "metadata": {},
   "outputs": [],
   "source": []
  },
  {
   "cell_type": "code",
   "execution_count": null,
   "id": "984b1bb9-bc3f-4b11-b2dd-a3af4981b6ac",
   "metadata": {},
   "outputs": [],
   "source": []
  }
 ],
 "metadata": {
  "kernelspec": {
   "display_name": "Python 3 (ipykernel)",
   "language": "python",
   "name": "python3"
  },
  "language_info": {
   "codemirror_mode": {
    "name": "ipython",
    "version": 3
   },
   "file_extension": ".py",
   "mimetype": "text/x-python",
   "name": "python",
   "nbconvert_exporter": "python",
   "pygments_lexer": "ipython3",
   "version": "3.8.12"
  }
 },
 "nbformat": 4,
 "nbformat_minor": 5
}
