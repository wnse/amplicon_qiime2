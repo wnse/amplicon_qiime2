{
 "cells": [
  {
   "cell_type": "code",
   "execution_count": 2,
   "id": "6bca9945-3853-4d51-9a07-0fbe1e7af450",
   "metadata": {},
   "outputs": [],
   "source": [
    "import pandas as pd\n",
    "import json"
   ]
  },
  {
   "cell_type": "code",
   "execution_count": null,
   "id": "86eceea2-b940-4847-aa70-c8f7dcbab543",
   "metadata": {},
   "outputs": [],
   "source": []
  },
  {
   "cell_type": "code",
   "execution_count": 31,
   "id": "f3d66154-13e0-4c77-a726-bf043349e556",
   "metadata": {},
   "outputs": [],
   "source": [
    "json_file = 'test_out/merge_out/Amplicon_merge_with_diversity.json'\n",
    "\n",
    "with open(json_file, 'rt') as H:\n",
    "    merge_info = json.load(H)\n",
    "alpha_index_csv = merge_info['alpha_index_csv']\n",
    "\n",
    "from qiime2 import Artifact\n",
    "from qiime2 import Metadata\n",
    "\n",
    "faith_pd_vector = Artifact.import_data('SampleData[AlphaDiversity]', df_faith_pd)\n",
    "\n",
    "df_faith_pd = pd.read_csv(alpha_index_csv, index_col=0)['faith_pd']\n",
    "\n",
    "sample_metadata_md = Metadata.load('test_out/div_sig/metadata.csv')\n",
    "\n",
    "# sample_metadata_md.to_dataframe()"
   ]
  },
  {
   "cell_type": "code",
   "execution_count": 35,
   "id": "dadf85a5-c321-4075-ac2d-bc8a6b8048a6",
   "metadata": {
    "tags": []
   },
   "outputs": [],
   "source": [
    "import qiime2.plugins.diversity.actions as diversity_actions\n",
    "faith_pd_group_significance_viz = diversity_actions.alpha_group_significance(\n",
    "    alpha_diversity=faith_pd_vector,\n",
    "    metadata=sample_metadata_md,\n",
    ")"
   ]
  },
  {
   "cell_type": "code",
   "execution_count": 34,
   "id": "76fa0411-08f5-4875-96e6-b47ed74a1040",
   "metadata": {},
   "outputs": [],
   "source": [
    "faith_pd_group_significance_viz.export_data('test_out/div_sig/faith_pd_group')"
   ]
  },
  {
   "cell_type": "code",
   "execution_count": null,
   "id": "ca106775-1f68-46c4-b3c2-5c63d6b5b1d4",
   "metadata": {},
   "outputs": [],
   "source": []
  },
  {
   "cell_type": "code",
   "execution_count": null,
   "id": "71c408d8-c9c3-4b1e-9e81-c99014425d78",
   "metadata": {},
   "outputs": [],
   "source": []
  },
  {
   "cell_type": "code",
   "execution_count": null,
   "id": "9043d688-ac41-4ab8-8825-b8834d3c6fb2",
   "metadata": {
    "tags": []
   },
   "outputs": [],
   "source": [
    "evenness_group_significance_viz, = diversity_actions.alpha_group_significance(\n",
    "    alpha_diversity=evenness_vector,\n",
    "    metadata=sample_metadata_md,\n",
    ")"
   ]
  },
  {
   "cell_type": "code",
   "execution_count": 61,
   "id": "2ac00024-f904-4945-8938-98dc2c029db1",
   "metadata": {},
   "outputs": [],
   "source": [
    "unweighted_unifrac_distance_matrix_file = merge_info['beta_diversity'][2]['unweighted_unifrac']['distance_matrix_csv']\n",
    "unweighted_unifrac_distance_matrix = Artifact.import_data('DistanceMatrix', unweighted_unifrac_distance_matrix_file)"
   ]
  },
  {
   "cell_type": "code",
   "execution_count": 60,
   "id": "865ad191-6d44-435f-b968-e49bba1452eb",
   "metadata": {},
   "outputs": [
    {
     "data": {
      "text/plain": [
       "'/mnt/d/Yangk/work/git/amplicon_qiime2/test_out/merge_out/diversity_unweighted_unifrac_distance_matrix.csv'"
      ]
     },
     "execution_count": 60,
     "metadata": {},
     "output_type": "execute_result"
    }
   ],
   "source": [
    "unweighted_unifrac_distance_matrix_file"
   ]
  },
  {
   "cell_type": "code",
   "execution_count": 62,
   "id": "042caa31-0f3f-48f8-a8cb-a51b94522d15",
   "metadata": {},
   "outputs": [],
   "source": [
    "sub_mdc = sample_metadata_md.get_column('11')\n",
    "unweighted_unifrac_group_significance_viz, = diversity_actions.beta_group_significance(\n",
    "    distance_matrix=unweighted_unifrac_distance_matrix,\n",
    "    metadata=sub_mdc,\n",
    "    pairwise=True,\n",
    ")"
   ]
  },
  {
   "cell_type": "code",
   "execution_count": 63,
   "id": "004db270-da65-4242-ab61-dc86440b109b",
   "metadata": {},
   "outputs": [],
   "source": [
    "unweighted_unifrac_group_significance_viz.export_data('test_out/div_sig/unweighted_unifrac_group_significance')"
   ]
  }
 ],
 "metadata": {
  "kernelspec": {
   "display_name": "Python 3 (ipykernel)",
   "language": "python",
   "name": "python3"
  },
  "language_info": {
   "codemirror_mode": {
    "name": "ipython",
    "version": 3
   },
   "file_extension": ".py",
   "mimetype": "text/x-python",
   "name": "python",
   "nbconvert_exporter": "python",
   "pygments_lexer": "ipython3",
   "version": "3.8.12"
  }
 },
 "nbformat": 4,
 "nbformat_minor": 5
}
