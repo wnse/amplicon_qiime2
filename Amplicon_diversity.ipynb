{
 "cells": [
  {
   "cell_type": "code",
   "execution_count": 2,
   "id": "892ebed8-6fc3-4775-a643-71e63e5d0fe8",
   "metadata": {},
   "outputs": [],
   "source": [
    "import sys\n",
    "import os\n",
    "import json\n",
    "import pandas as pd\n",
    "import logging\n",
    "import argparse"
   ]
  },
  {
   "cell_type": "code",
   "execution_count": 25,
   "id": "cf13f1ff-3c58-48ec-a19f-1915b107b0d2",
   "metadata": {},
   "outputs": [],
   "source": [
    "def get_diversity_action(sample_meta, table, tree):\n",
    "    import qiime2.plugins.diversity.actions as diversity_actions\n",
    "    action_results = diversity_actions.core_metrics_phylogenetic(\n",
    "        phylogeny=rooted_tree,\n",
    "        table=table,\n",
    "        sampling_depth=10000,\n",
    "        metadata=sample_meta,\n",
    "    )\n",
    "    return action_results\n",
    "\n",
    "def get_diversity_pcoa_results(action_results, outdir):\n",
    "    from skbio.stats.distance import DistanceMatrix\n",
    "    from skbio import OrdinationResults\n",
    "    \n",
    "    div_results.jaccard_distance_matrix.view(skbio.stats.distance.DistanceMatrix).to_data_frame()\n",
    "    div_results.jaccard_pcoa_results.view(skbio.OrdinationResults).proportion_explained\n",
    "    div_results.jaccard_pcoa_results.view(skbio.OrdinationResults).samples"
   ]
  },
  {
   "cell_type": "code",
   "execution_count": 92,
   "id": "de017245-fb58-4a6a-bcb7-a0b59f0f35db",
   "metadata": {},
   "outputs": [],
   "source": [
    "def get_alpha_rarefaction(table, tree, outdir):\n",
    "    outdict = {}\n",
    "    from q2_diversity._alpha._visualizer import _compute_rarefaction_data\n",
    "    # from q2_diversity._alpha._visualizer import _compute_summary\n",
    "    # from q2_diversity._alpha._visualizer import _alpha_rarefaction_jsonp\n",
    "\n",
    "    metrics = {'observed_features', 'shannon', 'faith_pd'}\n",
    "    tmp_table = table.view(biom.Table)\n",
    "    max_depth = max(tmp_table.sum(axis='sample'))\n",
    "    min_detph = 1\n",
    "    steps = 10\n",
    "    iterations = 10\n",
    "    tmp_tree = rooted_tree.view(skbio.TreeNode)\n",
    "    div_data = _compute_rarefaction_data(tmp_table, min_depth, max_depth, steps, iterations, tmp_tree, metrics)\n",
    "    for m, data in div_data.items():\n",
    "        filename = os.path.join(outdir, f'{m}.csv')\n",
    "        # jsonp_filename = f'{m}.jsonp'\n",
    "        # n_df = _compute_summary(data, 'sample-id')\n",
    "        # _alpha_rarefaction_jsonp(outdir, jsonp_filename, m, n_df, '')\n",
    "        data.columns = [f'depth-{t[0]}_iter{t[1]}' for t in data.columns.values]\n",
    "        data.to_csv(filename)\n",
    "        outdict.update({f'alpha_rarefaction_{m}_csv':filename})\n",
    "    return outdict"
   ]
  },
  {
   "cell_type": "code",
   "execution_count": 4,
   "id": "5e51d305-3519-4953-afff-5418f964028a",
   "metadata": {},
   "outputs": [],
   "source": [
    "def get_diversity(table_qza, tree_qza, outdir):\n",
    "    from qiime2 import Artifact\n",
    "    from qiime2 import Metadata\n",
    "    \n",
    "    table = Artifact.load(table_qza)\n",
    "    tree = Artifact.load(tree_qza)\n",
    "    tmpmanifest = os.path.join(outdir, 'tmpmanifest')\n",
    "    df_tmp = pd.Series(table.view(pd.DataFrame).index.to_list()).rename('sample-id')\n",
    "    df_tmp = pd.concat([df_tmp, df_tmp.rename('sample')], axis=1)\n",
    "    df_tmp.to_csv(tmpmanifest, sep='\\t', index=False)\n",
    "    sample_meta = Metadata.load(tmpmanifest)\n",
    "    \n",
    "    # table = Artifact.load('test_out/merged_out/merged_tab.qza')\n",
    "    # tmpmanifest = ('test_out/merged_out/tmpmanifest')\n",
    "    # df_tmp = pd.Series(table.view(pd.DataFrame).index.to_list()).rename('sample-id')\n",
    "    # df_tmp = pd.concat([df_tmp, df_tmp.rename('sample')], axis=1)\n",
    "    # df_tmp.to_csv(tmpmanifest, sep='\\t', index=False)\n",
    "    # sample_meta = Metadata.load(tmpmanifest)\n",
    "    # rooted_tree = Artifact.load('test_out/merged_out/merged_rooted_tree.qza')\n",
    "    \n",
    "    outdict = {}\n",
    "    action_result = get_diversity_action(sample_meta, table, tree)\n",
    "    outdict = get_diversity_pcon_results(action_result, outdir)\n",
    "    outdict.update(get_alpha_rarefaction(table, tree, outdir))"
   ]
  },
  {
   "cell_type": "code",
   "execution_count": null,
   "id": "fdae26a9-e144-4cb8-9e94-7b0526d6bb7e",
   "metadata": {},
   "outputs": [],
   "source": []
  }
 ],
 "metadata": {
  "kernelspec": {
   "display_name": "Python 3 (ipykernel)",
   "language": "python",
   "name": "python3"
  },
  "language_info": {
   "codemirror_mode": {
    "name": "ipython",
    "version": 3
   },
   "file_extension": ".py",
   "mimetype": "text/x-python",
   "name": "python",
   "nbconvert_exporter": "python",
   "pygments_lexer": "ipython3",
   "version": "3.8.12"
  }
 },
 "nbformat": 4,
 "nbformat_minor": 5
}
